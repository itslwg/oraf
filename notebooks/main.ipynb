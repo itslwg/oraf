{
 "cells": [
  {
   "cell_type": "markdown",
   "metadata": {},
   "source": [
    " ## Master notebook"
   ]
  },
  {
   "cell_type": "code",
   "execution_count": 1,
   "metadata": {},
   "outputs": [],
   "source": [
    "import os\n",
    "os.chdir(\"..\")"
   ]
  },
  {
   "cell_type": "code",
   "execution_count": 2,
   "metadata": {},
   "outputs": [],
   "source": [
    "%load_ext autoreload\n",
    "%autoreload 2"
   ]
  },
  {
   "cell_type": "code",
   "execution_count": 3,
   "metadata": {},
   "outputs": [],
   "source": [
    "import pandas as pd\n",
    "import numpy as np\n",
    "import seaborn as sns\n",
    "\n",
    "from scripts.models import (\n",
    "    cheng_model,\n",
    "    frank_model,\n",
    "    ordloss_model\n",
    ")\n",
    "from scripts.data_preparation import merge_station_data\n",
    "from scripts.metrics import report_performance, plot_confusion_matrix\n",
    "\n",
    "from fastai import *\n",
    "from fastai.tabular.all import *\n",
    "\n",
    "from torch.nn import ReLU, LeakyReLU\n",
    "\n",
    "import pickle"
   ]
  },
  {
   "cell_type": "code",
   "execution_count": 4,
   "metadata": {},
   "outputs": [
    {
     "name": "stdout",
     "output_type": "stream",
     "text": [
      "['Processed data for station: KLO3']\n",
      "['Processed data for station: ANV3']\n",
      "['Processed data for station: GAN2']\n",
      "['Processed data for station: DAV3']\n"
     ]
    }
   ],
   "source": [
    "df = merge_station_data(engineer_date=True)\n",
    "\n",
    "# Save cleaned data\n",
    "df.to_csv('./data/cleaned_data.csv', index=False)"
   ]
  },
  {
   "cell_type": "code",
   "execution_count": 5,
   "metadata": {},
   "outputs": [
    {
     "data": {
      "text/plain": [
       "1.0    20.768653\n",
       "2.0    47.008012\n",
       "3.0    30.821232\n",
       "4.0     1.402103\n",
       "Name: dangerLevel, dtype: float64"
      ]
     },
     "execution_count": 5,
     "metadata": {},
     "output_type": "execute_result"
    }
   ],
   "source": [
    "((df.dangerLevel.value_counts() / len(df.index)) * 100).sort_index()"
   ]
  },
  {
   "cell_type": "markdown",
   "metadata": {},
   "source": [
    "## Baseline"
   ]
  },
  {
   "cell_type": "code",
   "execution_count": 6,
   "metadata": {},
   "outputs": [],
   "source": [
    "from sklearn.linear_model import LogisticRegression"
   ]
  },
  {
   "cell_type": "code",
   "execution_count": 7,
   "metadata": {},
   "outputs": [],
   "source": [
    "# Process\n",
    "df_ = merge_station_data(engineer_date=False, verbose=False)\n",
    "bools = df_.columns[df_.dtypes == bool]\n",
    "df_.loc[:, bools] = df_[bools].astype('category')\n",
    "#df_ = df_.drop(columns=list(bools) + [\"station\"])\n",
    "df_ = pd.get_dummies(df_)"
   ]
  },
  {
   "cell_type": "code",
   "execution_count": 8,
   "metadata": {},
   "outputs": [],
   "source": [
    "# Split X, y, train, test\n",
    "y = df_['dangerLevel']\n",
    "X = df_.drop(columns=[\"dangerLevel\"])\n",
    "mask = df_.date < '2015-01-01'\n",
    "X.drop(columns=\"date\", inplace=True)\n",
    "X_train = X[mask]\n",
    "y_train = y[mask]\n",
    "# Normalize\n",
    "mean_train = X_train.mean()\n",
    "std_train = X_train.std()\n",
    "X_train = (X_train - mean_train) / std_train"
   ]
  },
  {
   "cell_type": "code",
   "execution_count": 9,
   "metadata": {},
   "outputs": [],
   "source": [
    "model = LogisticRegression(max_iter=1000, class_weight=\"balanced\").fit(X_train, y_train)"
   ]
  },
  {
   "cell_type": "code",
   "execution_count": 10,
   "metadata": {},
   "outputs": [],
   "source": [
    "X_test = (X[~mask] - mean_train) / std_train\n",
    "y_true_bench = y[~mask]"
   ]
  },
  {
   "cell_type": "code",
   "execution_count": 11,
   "metadata": {},
   "outputs": [
    {
     "data": {
      "text/plain": [
       "2.0    727\n",
       "3.0    655\n",
       "1.0    607\n",
       "4.0     45\n",
       "dtype: int64"
      ]
     },
     "execution_count": 11,
     "metadata": {},
     "output_type": "execute_result"
    }
   ],
   "source": [
    "y_pred_bench = pd.Series(model.predict(X_test))\n",
    "y_pred_bench.value_counts()"
   ]
  },
  {
   "cell_type": "code",
   "execution_count": 12,
   "metadata": {},
   "outputs": [
    {
     "name": "stdout",
     "output_type": "stream",
     "text": [
      "              precision    recall  f1-score   support\n",
      "\n",
      "         1.0       0.89      0.89      0.89       607\n",
      "         2.0       0.76      0.80      0.78       727\n",
      "         3.0       0.81      0.77      0.79       655\n",
      "         4.0       0.16      0.18      0.17        45\n",
      "\n",
      "    accuracy                           0.80      2034\n",
      "   macro avg       0.66      0.66      0.66      2034\n",
      "weighted avg       0.80      0.80      0.80      2034\n",
      "\n",
      "Balanced accuracy: 0.6579\n"
     ]
    }
   ],
   "source": [
    "import sklearn.metrics as metrics\n",
    "print(metrics.classification_report(y_pred_bench, y_true_bench))\n",
    "print(f\"Balanced accuracy: {metrics.balanced_accuracy_score(y_pred_bench, y_true_bench):.4f}\")"
   ]
  },
  {
   "cell_type": "code",
   "execution_count": 13,
   "metadata": {},
   "outputs": [
    {
     "data": {
      "text/html": [
       "<div>\n",
       "<style scoped>\n",
       "    .dataframe tbody tr th:only-of-type {\n",
       "        vertical-align: middle;\n",
       "    }\n",
       "\n",
       "    .dataframe tbody tr th {\n",
       "        vertical-align: top;\n",
       "    }\n",
       "\n",
       "    .dataframe thead th {\n",
       "        text-align: right;\n",
       "    }\n",
       "</style>\n",
       "<table border=\"1\" class=\"dataframe\">\n",
       "  <thead>\n",
       "    <tr style=\"text-align: right;\">\n",
       "      <th></th>\n",
       "      <th>Benchmark</th>\n",
       "    </tr>\n",
       "  </thead>\n",
       "  <tbody>\n",
       "    <tr>\n",
       "      <th>Prec_1.0</th>\n",
       "      <td>0.890</td>\n",
       "    </tr>\n",
       "    <tr>\n",
       "      <th>Prec_2.0</th>\n",
       "      <td>0.796</td>\n",
       "    </tr>\n",
       "    <tr>\n",
       "      <th>Prec_3.0</th>\n",
       "      <td>0.768</td>\n",
       "    </tr>\n",
       "    <tr>\n",
       "      <th>Prec_4.0</th>\n",
       "      <td>0.178</td>\n",
       "    </tr>\n",
       "    <tr>\n",
       "      <th>Rec_1.0</th>\n",
       "      <td>0.893</td>\n",
       "    </tr>\n",
       "    <tr>\n",
       "      <th>Rec_2.0</th>\n",
       "      <td>0.760</td>\n",
       "    </tr>\n",
       "    <tr>\n",
       "      <th>Rec_3.0</th>\n",
       "      <td>0.814</td>\n",
       "    </tr>\n",
       "    <tr>\n",
       "      <th>Rec_4.0</th>\n",
       "      <td>0.163</td>\n",
       "    </tr>\n",
       "    <tr>\n",
       "      <th>MMSE</th>\n",
       "      <td>0.429</td>\n",
       "    </tr>\n",
       "    <tr>\n",
       "      <th>MMAD</th>\n",
       "      <td>0.371</td>\n",
       "    </tr>\n",
       "  </tbody>\n",
       "</table>\n",
       "</div>"
      ],
      "text/plain": [
       "          Benchmark\n",
       "Prec_1.0      0.890\n",
       "Prec_2.0      0.796\n",
       "Prec_3.0      0.768\n",
       "Prec_4.0      0.178\n",
       "Rec_1.0       0.893\n",
       "Rec_2.0       0.760\n",
       "Rec_3.0       0.814\n",
       "Rec_4.0       0.163\n",
       "MMSE          0.429\n",
       "MMAD          0.371"
      ]
     },
     "execution_count": 13,
     "metadata": {},
     "output_type": "execute_result"
    }
   ],
   "source": [
    "report_performance(y_pred=y_pred_bench, y_true=y_true_bench, approach=\"Benchmark\")"
   ]
  },
  {
   "cell_type": "code",
   "execution_count": 14,
   "metadata": {},
   "outputs": [
    {
     "data": {
      "image/png": "[encoded data removed]",
      "text/plain": [
       "<Figure size 648x648 with 2 Axes>"
      ]
     },
     "metadata": {
      "needs_background": "light"
     },
     "output_type": "display_data"
    }
   ],
   "source": [
    "plot_confusion_matrix(y_true_bench, y_pred_bench)"
   ]
  },
  {
   "cell_type": "markdown",
   "metadata": {},
   "source": [
    "## Cheng approach"
   ]
  },
  {
   "cell_type": "code",
   "execution_count": 15,
   "metadata": {},
   "outputs": [],
   "source": [
    "opt_params_cheng = pickle.load(open( \"./cross_validation/cheng/opt_par_cv2.p\", \"rb\" ))"
   ]
  },
  {
   "cell_type": "code",
   "execution_count": 16,
   "metadata": {},
   "outputs": [
    {
     "data": {
      "text/plain": [
       "{'layers': [100, 100],\n",
       " 'lr': 0.01,\n",
       " 'actfn': LeakyReLU(negative_slope=0.01),\n",
       " 'bs': 64,\n",
       " 'epochs': 15,\n",
       " 'engineer_date': True}"
      ]
     },
     "execution_count": 16,
     "metadata": {},
     "output_type": "execute_result"
    }
   ],
   "source": [
    "opt_params_cheng"
   ]
  },
  {
   "cell_type": "code",
   "execution_count": 17,
   "metadata": {},
   "outputs": [],
   "source": [
    "def random_seed(seed_value, use_cuda):\n",
    "    \"\"\"\n",
    "    Set seed for before fitting.\n",
    "    \n",
    "    Source: https://forums.fast.ai/t/solved-reproducibility-where-is-the-randomness-coming-in/31628/27v\n",
    "    \"\"\"\n",
    "    np.random.seed(seed_value) # cpu vars\n",
    "    torch.manual_seed(seed_value) # cpu  vars\n",
    "    random.seed(seed_value) # Python\n",
    "    if use_cuda: \n",
    "        torch.cuda.manual_seed(seed_value)\n",
    "        torch.cuda.manual_seed_all(seed_value) # gpu vars\n",
    "        torch.backends.cudnn.deterministic = True  #needed\n",
    "        torch.backends.cudnn.benchmark = False"
   ]
  },
  {
   "cell_type": "markdown",
   "metadata": {},
   "source": [
    "Note: rerun the seed before training"
   ]
  },
  {
   "cell_type": "code",
   "execution_count": 18,
   "metadata": {},
   "outputs": [],
   "source": [
    "random_seed(1, True)"
   ]
  },
  {
   "cell_type": "code",
   "execution_count": 19,
   "metadata": {},
   "outputs": [
    {
     "name": "stdout",
     "output_type": "stream",
     "text": [
      "['Processed data for station: KLO3']\n",
      "['Processed data for station: ANV3']\n",
      "['Processed data for station: GAN2']\n",
      "['Processed data for station: DAV3']\n"
     ]
    },
    {
     "data": {
      "text/html": [],
      "text/plain": [
       "<IPython.core.display.HTML object>"
      ]
     },
     "metadata": {},
     "output_type": "display_data"
    },
    {
     "data": {
      "text/html": [
       "<table border=\"1\" class=\"dataframe\">\n",
       "  <thead>\n",
       "    <tr style=\"text-align: left;\">\n",
       "      <th>epoch</th>\n",
       "      <th>train_loss</th>\n",
       "      <th>valid_loss</th>\n",
       "      <th>f1_score</th>\n",
       "      <th>time</th>\n",
       "    </tr>\n",
       "  </thead>\n",
       "  <tbody>\n",
       "    <tr>\n",
       "      <td>0</td>\n",
       "      <td>0.244269</td>\n",
       "      <td>0.161250</td>\n",
       "      <td>0.928309</td>\n",
       "      <td>00:03</td>\n",
       "    </tr>\n",
       "    <tr>\n",
       "      <td>1</td>\n",
       "      <td>0.155260</td>\n",
       "      <td>0.120174</td>\n",
       "      <td>0.954545</td>\n",
       "      <td>00:02</td>\n",
       "    </tr>\n",
       "    <tr>\n",
       "      <td>2</td>\n",
       "      <td>0.131539</td>\n",
       "      <td>0.121145</td>\n",
       "      <td>0.954503</td>\n",
       "      <td>00:02</td>\n",
       "    </tr>\n",
       "    <tr>\n",
       "      <td>3</td>\n",
       "      <td>0.109110</td>\n",
       "      <td>0.115084</td>\n",
       "      <td>0.961858</td>\n",
       "      <td>00:02</td>\n",
       "    </tr>\n",
       "    <tr>\n",
       "      <td>4</td>\n",
       "      <td>0.092363</td>\n",
       "      <td>0.117885</td>\n",
       "      <td>0.958527</td>\n",
       "      <td>00:02</td>\n",
       "    </tr>\n",
       "    <tr>\n",
       "      <td>5</td>\n",
       "      <td>0.076338</td>\n",
       "      <td>0.116672</td>\n",
       "      <td>0.959219</td>\n",
       "      <td>00:03</td>\n",
       "    </tr>\n",
       "    <tr>\n",
       "      <td>6</td>\n",
       "      <td>0.062734</td>\n",
       "      <td>0.117692</td>\n",
       "      <td>0.959159</td>\n",
       "      <td>00:02</td>\n",
       "    </tr>\n",
       "  </tbody>\n",
       "</table>"
      ],
      "text/plain": [
       "<IPython.core.display.HTML object>"
      ]
     },
     "metadata": {},
     "output_type": "display_data"
    },
    {
     "name": "stdout",
     "output_type": "stream",
     "text": [
      "2034\n"
     ]
    },
    {
     "data": {
      "text/html": [],
      "text/plain": [
       "<IPython.core.display.HTML object>"
      ]
     },
     "metadata": {},
     "output_type": "display_data"
    },
    {
     "name": "stdout",
     "output_type": "stream",
     "text": [
      "              precision    recall  f1-score   support\n",
      "\n",
      "         1.0       0.96      0.91      0.94       605\n",
      "         2.0       0.86      0.88      0.87       762\n",
      "         3.0       0.86      0.90      0.88       618\n",
      "         4.0       0.83      0.59      0.69        49\n",
      "\n",
      "    accuracy                           0.89      2034\n",
      "   macro avg       0.88      0.82      0.84      2034\n",
      "weighted avg       0.89      0.89      0.89      2034\n",
      "\n",
      "\n",
      "Macro-averaged mean squared error: 0.18255373824996468\n",
      "\n",
      "Macro-averaged mean absolute error: 0.18091823048029979\n"
     ]
    },
    {
     "data": {
      "image/png": "[encoded data removed]",
      "text/plain": [
       "<Figure size 432x288 with 1 Axes>"
      ]
     },
     "metadata": {
      "needs_background": "light"
     },
     "output_type": "display_data"
    }
   ],
   "source": [
    "y_pred_cheng, y_true_cheng, learn = cheng_model.fit_and_predict(**{\n",
    "     'layers': [100, 100],\n",
    "     'lr': 0.01,\n",
    "     'actfn': LeakyReLU(negative_slope=0.01),\n",
    "     'bs': 64,\n",
    "     'epochs': 7,\n",
    "     'engineer_date': True,\n",
    "})"
   ]
  },
  {
   "cell_type": "code",
   "execution_count": 20,
   "metadata": {},
   "outputs": [
    {
     "data": {
      "text/plain": [
       "TabularModel(\n",
       "  (embeds): ModuleList(\n",
       "    (0): Embedding(25, 10)\n",
       "    (1): Embedding(9, 5)\n",
       "    (2): Embedding(33, 11)\n",
       "    (3): Embedding(32, 11)\n",
       "    (4): Embedding(8, 5)\n",
       "    (5): Embedding(207, 32)\n",
       "    (6): Embedding(3, 3)\n",
       "    (7): Embedding(3, 3)\n",
       "    (8): Embedding(3, 3)\n",
       "    (9): Embedding(3, 3)\n",
       "    (10): Embedding(3, 3)\n",
       "    (11): Embedding(3, 3)\n",
       "    (12): Embedding(5, 4)\n",
       "  )\n",
       "  (emb_drop): Dropout(p=0.0, inplace=False)\n",
       "  (bn_cont): BatchNorm1d(314, eps=1e-05, momentum=0.1, affine=True, track_running_stats=True)\n",
       "  (layers): Sequential(\n",
       "    (0): LinBnDrop(\n",
       "      (0): BatchNorm1d(410, eps=1e-05, momentum=0.1, affine=True, track_running_stats=True)\n",
       "      (1): Linear(in_features=410, out_features=100, bias=False)\n",
       "      (2): LeakyReLU(negative_slope=0.01)\n",
       "    )\n",
       "    (1): LinBnDrop(\n",
       "      (0): BatchNorm1d(100, eps=1e-05, momentum=0.1, affine=True, track_running_stats=True)\n",
       "      (1): Linear(in_features=100, out_features=100, bias=False)\n",
       "      (2): LeakyReLU(negative_slope=0.01)\n",
       "    )\n",
       "    (2): LinBnDrop(\n",
       "      (0): Linear(in_features=100, out_features=4, bias=True)\n",
       "    )\n",
       "  )\n",
       ")"
      ]
     },
     "execution_count": 20,
     "metadata": {},
     "output_type": "execute_result"
    }
   ],
   "source": [
    "learn.model"
   ]
  },
  {
   "cell_type": "code",
   "execution_count": 21,
   "metadata": {},
   "outputs": [],
   "source": [
    "import io\n",
    "import plotnine as pn"
   ]
  },
  {
   "cell_type": "code",
   "execution_count": 42,
   "metadata": {},
   "outputs": [],
   "source": [
    "s = io.StringIO(\n",
    "\"\"\"\n",
    "Epoch Train Test\n",
    "0 0.244269 0.161250\n",
    "1 0.155260 0.120174\n",
    "2 0.131539 0.121145\n",
    "3 0.109110 0.115084\n",
    "4 0.092363 0.117885\n",
    "5 0.076338 0.116672\n",
    "6 0.062734 0.117692\n",
    "\"\"\"\n",
    ")"
   ]
  },
  {
   "cell_type": "code",
   "execution_count": 43,
   "metadata": {},
   "outputs": [],
   "source": [
    "loss_tbl = pd.read_csv(s, sep=\" \")"
   ]
  },
  {
   "cell_type": "code",
   "execution_count": 44,
   "metadata": {},
   "outputs": [
    {
     "data": {
      "text/html": [
       "<div>\n",
       "<style scoped>\n",
       "    .dataframe tbody tr th:only-of-type {\n",
       "        vertical-align: middle;\n",
       "    }\n",
       "\n",
       "    .dataframe tbody tr th {\n",
       "        vertical-align: top;\n",
       "    }\n",
       "\n",
       "    .dataframe thead th {\n",
       "        text-align: right;\n",
       "    }\n",
       "</style>\n",
       "<table border=\"1\" class=\"dataframe\">\n",
       "  <thead>\n",
       "    <tr style=\"text-align: right;\">\n",
       "      <th></th>\n",
       "      <th>Epoch</th>\n",
       "      <th>Train</th>\n",
       "      <th>Test</th>\n",
       "    </tr>\n",
       "  </thead>\n",
       "  <tbody>\n",
       "    <tr>\n",
       "      <th>0</th>\n",
       "      <td>0</td>\n",
       "      <td>0.244269</td>\n",
       "      <td>0.161250</td>\n",
       "    </tr>\n",
       "    <tr>\n",
       "      <th>1</th>\n",
       "      <td>1</td>\n",
       "      <td>0.155260</td>\n",
       "      <td>0.120174</td>\n",
       "    </tr>\n",
       "    <tr>\n",
       "      <th>2</th>\n",
       "      <td>2</td>\n",
       "      <td>0.131539</td>\n",
       "      <td>0.121145</td>\n",
       "    </tr>\n",
       "    <tr>\n",
       "      <th>3</th>\n",
       "      <td>3</td>\n",
       "      <td>0.109110</td>\n",
       "      <td>0.115084</td>\n",
       "    </tr>\n",
       "    <tr>\n",
       "      <th>4</th>\n",
       "      <td>4</td>\n",
       "      <td>0.092363</td>\n",
       "      <td>0.117885</td>\n",
       "    </tr>\n",
       "    <tr>\n",
       "      <th>5</th>\n",
       "      <td>5</td>\n",
       "      <td>0.076338</td>\n",
       "      <td>0.116672</td>\n",
       "    </tr>\n",
       "    <tr>\n",
       "      <th>6</th>\n",
       "      <td>6</td>\n",
       "      <td>0.062734</td>\n",
       "      <td>0.117692</td>\n",
       "    </tr>\n",
       "  </tbody>\n",
       "</table>\n",
       "</div>"
      ],
      "text/plain": [
       "   Epoch     Train      Test\n",
       "0      0  0.244269  0.161250\n",
       "1      1  0.155260  0.120174\n",
       "2      2  0.131539  0.121145\n",
       "3      3  0.109110  0.115084\n",
       "4      4  0.092363  0.117885\n",
       "5      5  0.076338  0.116672\n",
       "6      6  0.062734  0.117692"
      ]
     },
     "execution_count": 44,
     "metadata": {},
     "output_type": "execute_result"
    }
   ],
   "source": [
    "loss_tbl"
   ]
  },
  {
   "cell_type": "code",
   "execution_count": 45,
   "metadata": {},
   "outputs": [],
   "source": [
    "loss_tbl_melt = pd.melt(loss_tbl, value_vars=[\"Train\", \"Test\"], id_vars=[\"Epoch\"])\n",
    "loss_tbl_melt.loc[:, \"Epoch\"] = loss_tbl_melt.loc[:, \"Epoch\"].astype(\"category\")"
   ]
  },
  {
   "cell_type": "code",
   "execution_count": 46,
   "metadata": {},
   "outputs": [
    {
     "data": {
      "text/html": [
       "<div>\n",
       "<style scoped>\n",
       "    .dataframe tbody tr th:only-of-type {\n",
       "        vertical-align: middle;\n",
       "    }\n",
       "\n",
       "    .dataframe tbody tr th {\n",
       "        vertical-align: top;\n",
       "    }\n",
       "\n",
       "    .dataframe thead th {\n",
       "        text-align: right;\n",
       "    }\n",
       "</style>\n",
       "<table border=\"1\" class=\"dataframe\">\n",
       "  <thead>\n",
       "    <tr style=\"text-align: right;\">\n",
       "      <th></th>\n",
       "      <th>Epoch</th>\n",
       "      <th>variable</th>\n",
       "      <th>value</th>\n",
       "    </tr>\n",
       "  </thead>\n",
       "  <tbody>\n",
       "    <tr>\n",
       "      <th>0</th>\n",
       "      <td>0</td>\n",
       "      <td>Train</td>\n",
       "      <td>0.244269</td>\n",
       "    </tr>\n",
       "    <tr>\n",
       "      <th>1</th>\n",
       "      <td>1</td>\n",
       "      <td>Train</td>\n",
       "      <td>0.155260</td>\n",
       "    </tr>\n",
       "    <tr>\n",
       "      <th>2</th>\n",
       "      <td>2</td>\n",
       "      <td>Train</td>\n",
       "      <td>0.131539</td>\n",
       "    </tr>\n",
       "    <tr>\n",
       "      <th>3</th>\n",
       "      <td>3</td>\n",
       "      <td>Train</td>\n",
       "      <td>0.109110</td>\n",
       "    </tr>\n",
       "    <tr>\n",
       "      <th>4</th>\n",
       "      <td>4</td>\n",
       "      <td>Train</td>\n",
       "      <td>0.092363</td>\n",
       "    </tr>\n",
       "    <tr>\n",
       "      <th>5</th>\n",
       "      <td>5</td>\n",
       "      <td>Train</td>\n",
       "      <td>0.076338</td>\n",
       "    </tr>\n",
       "    <tr>\n",
       "      <th>6</th>\n",
       "      <td>6</td>\n",
       "      <td>Train</td>\n",
       "      <td>0.062734</td>\n",
       "    </tr>\n",
       "    <tr>\n",
       "      <th>7</th>\n",
       "      <td>0</td>\n",
       "      <td>Test</td>\n",
       "      <td>0.161250</td>\n",
       "    </tr>\n",
       "    <tr>\n",
       "      <th>8</th>\n",
       "      <td>1</td>\n",
       "      <td>Test</td>\n",
       "      <td>0.120174</td>\n",
       "    </tr>\n",
       "    <tr>\n",
       "      <th>9</th>\n",
       "      <td>2</td>\n",
       "      <td>Test</td>\n",
       "      <td>0.121145</td>\n",
       "    </tr>\n",
       "    <tr>\n",
       "      <th>10</th>\n",
       "      <td>3</td>\n",
       "      <td>Test</td>\n",
       "      <td>0.115084</td>\n",
       "    </tr>\n",
       "    <tr>\n",
       "      <th>11</th>\n",
       "      <td>4</td>\n",
       "      <td>Test</td>\n",
       "      <td>0.117885</td>\n",
       "    </tr>\n",
       "    <tr>\n",
       "      <th>12</th>\n",
       "      <td>5</td>\n",
       "      <td>Test</td>\n",
       "      <td>0.116672</td>\n",
       "    </tr>\n",
       "    <tr>\n",
       "      <th>13</th>\n",
       "      <td>6</td>\n",
       "      <td>Test</td>\n",
       "      <td>0.117692</td>\n",
       "    </tr>\n",
       "  </tbody>\n",
       "</table>\n",
       "</div>"
      ],
      "text/plain": [
       "   Epoch variable     value\n",
       "0      0    Train  0.244269\n",
       "1      1    Train  0.155260\n",
       "2      2    Train  0.131539\n",
       "3      3    Train  0.109110\n",
       "4      4    Train  0.092363\n",
       "5      5    Train  0.076338\n",
       "6      6    Train  0.062734\n",
       "7      0     Test  0.161250\n",
       "8      1     Test  0.120174\n",
       "9      2     Test  0.121145\n",
       "10     3     Test  0.115084\n",
       "11     4     Test  0.117885\n",
       "12     5     Test  0.116672\n",
       "13     6     Test  0.117692"
      ]
     },
     "execution_count": 46,
     "metadata": {},
     "output_type": "execute_result"
    }
   ],
   "source": [
    "loss_tbl_melt"
   ]
  },
  {
   "cell_type": "code",
   "execution_count": 47,
   "metadata": {},
   "outputs": [
    {
     "data": {
      "image/png": "[encoded data removed]",
      "text/plain": [
       "<Figure size 640x480 with 1 Axes>"
      ]
     },
     "metadata": {},
     "output_type": "display_data"
    },
    {
     "data": {
      "text/plain": [
       "<ggplot: (8794734677845)>"
      ]
     },
     "execution_count": 47,
     "metadata": {},
     "output_type": "execute_result"
    }
   ],
   "source": [
    "(pn.ggplot(loss_tbl_melt, pn.aes(x=\"Epoch\", y=\"value\", group=\"variable\", color=\"variable\"))\n",
    " + pn.geom_line()\n",
    " + pn.ylab(\"Loss\")\n",
    " + pn.xlab(\"Epochs\")\n",
    " + pn.theme(legend_title = pn.element_blank()))"
   ]
  },
  {
   "cell_type": "code",
   "execution_count": 48,
   "metadata": {},
   "outputs": [
    {
     "data": {
      "image/png": "[encoded data removed]",
      "text/plain": [
       "<Figure size 648x648 with 2 Axes>"
      ]
     },
     "metadata": {
      "needs_background": "light"
     },
     "output_type": "display_data"
    }
   ],
   "source": [
    "plot_confusion_matrix(y_true_cheng, y_pred_cheng)"
   ]
  },
  {
   "cell_type": "markdown",
   "metadata": {},
   "source": [
    "## OrdLoss Approach"
   ]
  },
  {
   "cell_type": "code",
   "execution_count": 29,
   "metadata": {},
   "outputs": [
    {
     "data": {
      "text/plain": [
       "{'nodes': 5,\n",
       " 'class_weights': array([ 1.20373719,  0.53182423,  0.81112916, 17.83035714]),\n",
       " 'epochs': 15,\n",
       " 'batch_size': 2,\n",
       " 'lr': 0.01,\n",
       " 'start': -10,\n",
       " 'end': 10,\n",
       " 'pca': True,\n",
       " 'dates': True}"
      ]
     },
     "execution_count": 29,
     "metadata": {},
     "output_type": "execute_result"
    }
   ],
   "source": [
    "opt_params = pickle.load( open( \"./cross_validation/ordloss/opt_par_cv.p\", \"rb\" ) )\n",
    "opt_params"
   ]
  },
  {
   "cell_type": "markdown",
   "metadata": {},
   "source": [
    "Note: Rerun the data loading!"
   ]
  },
  {
   "cell_type": "code",
   "execution_count": 30,
   "metadata": {},
   "outputs": [],
   "source": [
    "random_seed(1, True)"
   ]
  },
  {
   "cell_type": "code",
   "execution_count": 31,
   "metadata": {},
   "outputs": [
    {
     "name": "stderr",
     "output_type": "stream",
     "text": [
      "100%|██████████| 2977/2977 [00:05<00:00, 576.53it/s]\n",
      "100%|██████████| 2977/2977 [00:04<00:00, 595.52it/s]\n",
      "100%|██████████| 2977/2977 [00:05<00:00, 588.80it/s]\n",
      "100%|██████████| 2977/2977 [00:05<00:00, 572.28it/s]\n",
      "100%|██████████| 2977/2977 [00:04<00:00, 651.67it/s]\n",
      "100%|██████████| 2977/2977 [00:04<00:00, 652.80it/s]\n",
      "100%|██████████| 2977/2977 [00:04<00:00, 665.76it/s]\n",
      "100%|██████████| 2977/2977 [00:04<00:00, 703.05it/s]\n",
      "100%|██████████| 2977/2977 [00:04<00:00, 651.33it/s]\n",
      "100%|██████████| 2977/2977 [00:04<00:00, 674.57it/s]\n",
      "100%|██████████| 2977/2977 [00:04<00:00, 695.16it/s]\n",
      "100%|██████████| 2977/2977 [00:04<00:00, 689.13it/s]\n",
      "100%|██████████| 2977/2977 [00:04<00:00, 681.47it/s]\n",
      "100%|██████████| 2977/2977 [00:04<00:00, 682.35it/s]\n",
      "100%|██████████| 2977/2977 [00:04<00:00, 683.22it/s]\n"
     ]
    },
    {
     "data": {
      "image/png": "[encoded data removed]",
      "text/plain": [
       "<Figure size 690.375x216 with 1 Axes>"
      ]
     },
     "metadata": {
      "needs_background": "light"
     },
     "output_type": "display_data"
    },
    {
     "name": "stdout",
     "output_type": "stream",
     "text": [
      "              precision    recall  f1-score   support\n",
      "\n",
      "           1       0.83      0.91      0.87       605\n",
      "           2       0.71      0.75      0.73       762\n",
      "           3       0.78      0.67      0.72       618\n",
      "           4       0.35      0.27      0.30        49\n",
      "\n",
      "    accuracy                           0.76      2034\n",
      "   macro avg       0.67      0.65      0.65      2034\n",
      "weighted avg       0.76      0.76      0.76      2034\n",
      "\n",
      "Balanced Accuracy:\t0.648\n",
      "\n"
     ]
    }
   ],
   "source": [
    "y_pred_ordloss, y_true_ordloss = ordloss_model.fit_and_predict(df, opt_params)"
   ]
  },
  {
   "cell_type": "code",
   "execution_count": 49,
   "metadata": {},
   "outputs": [
    {
     "data": {
      "image/png": "[encoded data removed]",
      "text/plain": [
       "<Figure size 648x648 with 2 Axes>"
      ]
     },
     "metadata": {
      "needs_background": "light"
     },
     "output_type": "display_data"
    }
   ],
   "source": [
    "plot_confusion_matrix(y_true_ordloss, y_pred_ordloss)"
   ]
  },
  {
   "cell_type": "markdown",
   "metadata": {},
   "source": [
    "## Frank et al. Approach"
   ]
  },
  {
   "cell_type": "code",
   "execution_count": 32,
   "metadata": {},
   "outputs": [
    {
     "data": {
      "text/plain": [
       "{'classifier': ('xgb', 'logistic', 'tree'),\n",
       " 'PCA': False,\n",
       " 'drop_cat': True,\n",
       " 'params': [{'scale_pos_weight': 1.0,\n",
       "   'learning_rate': 0.1,\n",
       "   'max_depth': 9,\n",
       "   'gamma': 0.2,\n",
       "   'colsample_bytree': 1.0,\n",
       "   'verbosity': 0},\n",
       "  {'max_iter': 1000, 'tol': 0.0001, 'class_weight': None, 'C': 2.0},\n",
       "  {'class_weight': None,\n",
       "   'min_samples_split': 8,\n",
       "   'min_samples_leaf': 1,\n",
       "   'max_depth': 6}]}"
      ]
     },
     "execution_count": 32,
     "metadata": {},
     "output_type": "execute_result"
    }
   ],
   "source": [
    "opt_params = pickle.load( open( \"./cross_validation/frank/opt_par_cv.p\", \"rb\" ) )\n",
    "opt_params"
   ]
  },
  {
   "cell_type": "code",
   "execution_count": 33,
   "metadata": {},
   "outputs": [],
   "source": [
    "random_seed(1, True)"
   ]
  },
  {
   "cell_type": "code",
   "execution_count": 34,
   "metadata": {},
   "outputs": [
    {
     "name": "stdout",
     "output_type": "stream",
     "text": [
      "Drop_cat is set to true, dropping: ['station', 'Is_month_end', 'Is_month_start', 'Is_quarter_end', 'Is_quarter_start', 'Is_year_end', 'Is_year_start']\n",
      "P matrix:\n",
      "  Non-positive: 576 (7.080%)\n",
      "Balanced Accuracy:\t0.673\n",
      "\n",
      "Per Class Accuracy\n",
      "1.0    0.883\n",
      "2.0    0.823\n",
      "3.0    0.783\n",
      "4.0    0.204\n",
      "dtype: float64\n",
      "\n",
      "              precision    recall  f1-score   support\n",
      "\n",
      "         1.0       0.94      0.88      0.91       605\n",
      "         2.0       0.77      0.82      0.80       762\n",
      "         3.0       0.78      0.78      0.78       618\n",
      "         4.0       0.32      0.20      0.25        49\n",
      "\n",
      "    accuracy                           0.81      2034\n",
      "   macro avg       0.70      0.67      0.68      2034\n",
      "weighted avg       0.81      0.81      0.81      2034\n",
      "\n",
      "\n",
      "Macro-averaged mean squared error: 0.3971142543791533\n",
      "Macro-averaged mean absolute error: 0.35024934688353027\n"
     ]
    },
    {
     "data": {
      "image/png": "[encoded data removed]",
      "text/plain": [
       "<Figure size 648x648 with 2 Axes>"
      ]
     },
     "metadata": {
      "needs_background": "light"
     },
     "output_type": "display_data"
    },
    {
     "data": {
      "image/png": "[encoded data removed]",
      "text/plain": [
       "<Figure size 432x288 with 1 Axes>"
      ]
     },
     "metadata": {
      "needs_background": "light"
     },
     "output_type": "display_data"
    }
   ],
   "source": [
    "y_pred_frank, y_true_frank, clf = frank_model.fit_and_predict(df, **opt_params)"
   ]
  },
  {
   "cell_type": "markdown",
   "metadata": {},
   "source": [
    "## Report performance of candidate models and baseline"
   ]
  },
  {
   "cell_type": "code",
   "execution_count": 39,
   "metadata": {},
   "outputs": [],
   "source": [
    "predictions = [\n",
    "    dict(y_pred=y_pred_bench.astype(int), y_true=y_true_bench.astype(int), approach=\"Benchmark\"),\n",
    "    dict(y_pred=y_pred_cheng, y_true=y_true_cheng, approach=\"Cheng\"),\n",
    "    dict(y_pred=y_pred_ordloss + 1, y_true=y_true_ordloss + 1, approach=\"OrdLoss\"),\n",
    "    dict(y_pred=y_pred_frank.astype(int), y_true=y_true_frank.astype(int), approach=\"Frank et al.\"),\n",
    "]"
   ]
  },
  {
   "cell_type": "code",
   "execution_count": 40,
   "metadata": {},
   "outputs": [],
   "source": [
    "perf = [report_performance(**d) for d in predictions]\n",
    "tbl = pd.concat(perf, axis=1)"
   ]
  },
  {
   "cell_type": "code",
   "execution_count": 41,
   "metadata": {},
   "outputs": [
    {
     "name": "stdout",
     "output_type": "stream",
     "text": [
      "\\begin{tabular}{lrrrr}\n",
      "\\toprule\n",
      "{} &  Benchmark &  Cheng &  OrdLoss &  Frank et al. \\\\\n",
      "\\midrule\n",
      "Prec\\_1 &      0.890 &  0.965 &    0.830 &         0.937 \\\\\n",
      "Prec\\_2 &      0.796 &  0.859 &    0.707 &         0.771 \\\\\n",
      "Prec\\_3 &      0.768 &  0.856 &    0.784 &         0.781 \\\\\n",
      "Prec\\_4 &      0.178 &  0.829 &    0.351 &         0.323 \\\\\n",
      "Rec\\_1  &      0.893 &  0.911 &    0.906 &         0.883 \\\\\n",
      "Rec\\_2  &      0.760 &  0.881 &    0.755 &         0.823 \\\\\n",
      "Rec\\_3  &      0.814 &  0.896 &    0.665 &         0.783 \\\\\n",
      "Rec\\_4  &      0.163 &  0.592 &    0.265 &         0.204 \\\\\n",
      "MMSE   &      0.429 &  0.183 &    0.458 &         0.397 \\\\\n",
      "MMAD   &      0.371 &  0.181 &    0.388 &         0.350 \\\\\n",
      "\\bottomrule\n",
      "\\end{tabular}\n",
      "\n"
     ]
    }
   ],
   "source": [
    "# Output for report\n",
    "print(tbl.to_latex())"
   ]
  }
 ],
 "metadata": {
  "kernelspec": {
   "display_name": "Python 3",
   "language": "python",
   "name": "python3"
  },
  "language_info": {
   "codemirror_mode": {
    "name": "ipython",
    "version": 3
   },
   "file_extension": ".py",
   "mimetype": "text/x-python",
   "name": "python",
   "nbconvert_exporter": "python",
   "pygments_lexer": "ipython3",
   "version": "3.8.3"
  }
 },
 "nbformat": 4,
 "nbformat_minor": 4
}
